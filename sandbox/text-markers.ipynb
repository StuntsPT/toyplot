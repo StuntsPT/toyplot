{
 "cells": [
  {
   "cell_type": "code",
   "execution_count": 1,
   "metadata": {},
   "outputs": [
    {
     "name": "stdout",
     "output_type": "stream",
     "text": [
      "This: <marker shape='s' mstyle='fill:none' label='A'/> is a marker.<br/>So is this: <marker shape='*'/>\n"
     ]
    }
   ],
   "source": [
    "import toyplot.marker\n",
    "\n",
    "marker_a = toyplot.marker.create(shape=\"s\", label=\"A\", mstyle={\"fill\":\"none\"})\n",
    "marker_b = toyplot.marker.create(shape=\"*\")\n",
    "text = \"This: \" + marker_a + \" is a marker.<br/>So is this: \" + marker_b\n",
    "\n",
    "style = {\"font-size\": \"18px\", \"text-anchor\":\"start\"}\n",
    "\n",
    "print text"
   ]
  },
  {
   "cell_type": "code",
   "execution_count": 2,
   "metadata": {},
   "outputs": [
    {
     "data": {
      "text/html": [
       "<div align=\"center\" class=\"toyplot\" id=\"t6ebc67871b484bb49ec1d941b0b9e917\"><svg class=\"toyplot-canvas-Canvas\" height=\"192.0px\" id=\"tb4b592934b054a2294165204732fadf6\" preserveAspectRatio=\"xMidYMid meet\" style=\"background-color:transparent;fill:rgb(16.1%,15.3%,14.1%);fill-opacity:1.0;font-family:Helvetica;font-size:12px;opacity:1.0;stroke:rgb(16.1%,15.3%,14.1%);stroke-opacity:1.0;stroke-width:1.0\" viewBox=\"0 0 480.0 192.0\" width=\"480.0px\" xmlns=\"http://www.w3.org/2000/svg\" xmlns:toyplot=\"http://www.sandia.gov/toyplot\" xmlns:xlink=\"http://www.w3.org/1999/xlink\"><g class=\"toyplot-coordinates-Cartesian\" id=\"tc6ba73a2e51b446ca32492b9c01cc815\"><clipPath id=\"tb588fff7b108412d83374bfb71075df2\"><rect height=\"112.0\" width=\"400.0\" x=\"40.0\" y=\"40.0\"></rect></clipPath><g clip-path=\"url(#tb588fff7b108412d83374bfb71075df2)\"><g class=\"toyplot-mark-Text\" id=\"t17517afc93754b43a799ac2447352c1c\"><g class=\"toyplot-Series\"><g class=\"toyplot-Datum\" transform=\"translate(240.0,96.0)\"><title>text</title><text style=\"fill:rgb(40%,76.1%,64.7%);fill-opacity:1.0;font-family:helvetica;font-size:18.0;font-weight:normal;opacity:1.0;stroke:none;vertical-align:baseline;white-space:pre\" x=\"0\" y=\"-6.201\">This: </text><g style=\"fill:none\"><rect height=\"16.65\" transform=\"rotate(0, 52.334999999999994, -10.799999999999999)\" width=\"16.65\" x=\"44.00999999999999\" y=\"-19.125\"></rect><g transform=\"translate(52.334999999999994,-10.799999999999999)\"><text style=\"fill:rgb(16.1%,15.3%,14.1%);fill-opacity:1.0;font-family:helvetica;font-size:12.4875;font-weight:normal;stroke:none;vertical-align:baseline;white-space:pre\" x=\"-4.16458125\" y=\"3.19055625\">A</text></g></g><text style=\"fill:rgb(40%,76.1%,64.7%);fill-opacity:1.0;font-family:helvetica;font-size:18.0;font-weight:normal;opacity:1.0;stroke:none;vertical-align:baseline;white-space:pre\" x=\"60.66\" y=\"-6.201\"> is a marker.</text><text style=\"fill:rgb(40%,76.1%,64.7%);fill-opacity:1.0;font-family:helvetica;font-size:18.0;font-weight:normal;opacity:1.0;stroke:none;vertical-align:baseline;white-space:pre\" x=\"0\" y=\"15.399\">So is this: </text><g><line transform=\"rotate(0, 91.35900000000001, 10.800000000000001)\" x1=\"91.35900000000001\" x2=\"91.35900000000001\" y1=\"2.4750000000000014\" y2=\"19.125\"></line><line transform=\"rotate(60, 91.35900000000001, 10.800000000000001)\" x1=\"91.35900000000001\" x2=\"91.35900000000001\" y1=\"2.4750000000000014\" y2=\"19.125\"></line><line transform=\"rotate(-60, 91.35900000000001, 10.800000000000001)\" x1=\"91.35900000000001\" x2=\"91.35900000000001\" y1=\"2.4750000000000014\" y2=\"19.125\"></line></g></g></g></g></g></g></svg><div class=\"toyplot-interactive\"></div></div>"
      ]
     },
     "metadata": {},
     "output_type": "display_data"
    }
   ],
   "source": [
    "canvas = toyplot.Canvas(width=\"5in\", height=\"2in\")\n",
    "axes = canvas.cartesian(show=False)\n",
    "axes.text(0, 0, text=text, style=style, title=\"text\");"
   ]
  },
  {
   "cell_type": "code",
   "execution_count": null,
   "metadata": {
    "collapsed": true
   },
   "outputs": [],
   "source": []
  }
 ],
 "metadata": {
  "anaconda-cloud": {},
  "kernelspec": {
   "display_name": "Python 2",
   "language": "python",
   "name": "python2"
  },
  "language_info": {
   "codemirror_mode": {
    "name": "ipython",
    "version": 2
   },
   "file_extension": ".py",
   "mimetype": "text/x-python",
   "name": "python",
   "nbconvert_exporter": "python",
   "pygments_lexer": "ipython2",
   "version": "2.7.13"
  }
 },
 "nbformat": 4,
 "nbformat_minor": 1
}

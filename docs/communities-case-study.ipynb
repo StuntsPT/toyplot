{
 "cells": [
  {
   "cell_type": "markdown",
   "metadata": {},
   "source": [
    ".. _communities-case-study:\n",
    "\n",
    "# Visualizing Community Detection in Graphs\n",
    "\n",
    "The following explores how Toyplot's graph visualization could be used to support development of a hypothetical new community detection algorithm:"
   ]
  },
  {
   "cell_type": "markdown",
   "metadata": {},
   "source": [
    "## Graph Data\n",
    "\n",
    "First, we load the structure of a graph from a text file into an $E \\times 2$ matrix containing the source and target vertices for each of $E$ graph edges:"
   ]
  },
  {
   "cell_type": "code",
   "execution_count": 1,
   "metadata": {},
   "outputs": [
    {
     "data": {
      "text/plain": [
       "array([[ 1,  2],\n",
       "       [ 1,  3],\n",
       "       [ 1,  4],\n",
       "       [ 2,  3],\n",
       "       [ 2,  4],\n",
       "       [ 3,  4],\n",
       "       [ 5,  6],\n",
       "       [ 5,  7],\n",
       "       [ 5,  8],\n",
       "       [ 6,  7],\n",
       "       [ 6,  8],\n",
       "       [ 7,  8],\n",
       "       [ 9, 10],\n",
       "       [ 9, 11],\n",
       "       [ 9, 12],\n",
       "       [10, 11],\n",
       "       [10, 12],\n",
       "       [11, 12],\n",
       "       [ 4,  5],\n",
       "       [ 8,  9]])"
      ]
     },
     "execution_count": 1,
     "metadata": {},
     "output_type": "execute_result"
    }
   ],
   "source": [
    "import numpy\n",
    "\n",
    "edges = numpy.array([row.split() for row in open(\"communities.edges\")], dtype=\"int\")\n",
    "edges"
   ]
  },
  {
   "cell_type": "markdown",
   "metadata": {},
   "source": [
    "Conveniently, Toyplot can display this matrix directly as a graph using a force-directed layout, inducing the vertex labels from the edge data:"
   ]
  },
  {
   "cell_type": "code",
   "execution_count": 2,
   "metadata": {},
   "outputs": [
    {
     "data": {
      "text/html": [
       "<div align=\"center\" class=\"toyplot\" id=\"ta6c3ca787b7d4f89ab4cb5644164ae90\"><svg class=\"toyplot-canvas-Canvas\" height=\"600px\" id=\"tfa556580944647d7a8ce12001e5d43ce\" preserveAspectRatio=\"xMidYMid meet\" style=\"background-color:transparent;fill:rgb(16.1%,15.3%,14.1%);fill-opacity:1.0;font-family:Helvetica;font-size:12px;opacity:1.0;stroke:rgb(16.1%,15.3%,14.1%);stroke-opacity:1.0;stroke-width:1.0\" viewBox=\"0 0 600 600\" width=\"600px\" xmlns=\"http://www.w3.org/2000/svg\" xmlns:toyplot=\"http://www.sandia.gov/toyplot\" xmlns:xlink=\"http://www.w3.org/1999/xlink\"><g class=\"toyplot-coordinates-Cartesian\" id=\"td8c8fb1eadd9475ba260178d9a7c3466\"><clipPath id=\"t596e80794daf44159c8af38acb8f4f18\"><rect height=\"540.0\" width=\"540.0\" x=\"30.0\" y=\"30.0\"></rect></clipPath><g clip-path=\"url(#t596e80794daf44159c8af38acb8f4f18)\"><g class=\"toyplot-mark-Graph\" id=\"t3acc86b862e847fa85721ae18695e16f\"><g class=\"toyplot-Edges\"><path d=\"M 209.684895569 50.0 L 253.057353078 51.8081031874\" style=\"fill:none;stroke:rgb(40%,76.1%,64.7%);stroke-opacity:1.0;stroke-width:1.0\"></path><path d=\"M 209.684895569 50.0 L 203.978190183 90.8386090217\" style=\"fill:none;stroke:rgb(40%,76.1%,64.7%);stroke-opacity:1.0;stroke-width:1.0\"></path><path d=\"M 209.684895569 50.0 L 265.250480273 123.383734723\" style=\"fill:none;stroke:rgb(40%,76.1%,64.7%);stroke-opacity:1.0;stroke-width:1.0\"></path><path d=\"M 253.057353078 51.8081031874 L 203.978190183 90.8386090217\" style=\"fill:none;stroke:rgb(40%,76.1%,64.7%);stroke-opacity:1.0;stroke-width:1.0\"></path><path d=\"M 253.057353078 51.8081031874 L 265.250480273 123.383734723\" style=\"fill:none;stroke:rgb(40%,76.1%,64.7%);stroke-opacity:1.0;stroke-width:1.0\"></path><path d=\"M 203.978190183 90.8386090217 L 265.250480273 123.383734723\" style=\"fill:none;stroke:rgb(40%,76.1%,64.7%);stroke-opacity:1.0;stroke-width:1.0\"></path><path d=\"M 336.0866379 229.901561209 L 392.506888811 253.255666931\" style=\"fill:none;stroke:rgb(40%,76.1%,64.7%);stroke-opacity:1.0;stroke-width:1.0\"></path><path d=\"M 336.0866379 229.901561209 L 396.021809817 286.810027968\" style=\"fill:none;stroke:rgb(40%,76.1%,64.7%);stroke-opacity:1.0;stroke-width:1.0\"></path><path d=\"M 336.0866379 229.901561209 L 361.069089366 332.705038873\" style=\"fill:none;stroke:rgb(40%,76.1%,64.7%);stroke-opacity:1.0;stroke-width:1.0\"></path><path d=\"M 392.506888811 253.255666931 L 396.021809817 286.810027968\" style=\"fill:none;stroke:rgb(40%,76.1%,64.7%);stroke-opacity:1.0;stroke-width:1.0\"></path><path d=\"M 392.506888811 253.255666931 L 361.069089366 332.705038873\" style=\"fill:none;stroke:rgb(40%,76.1%,64.7%);stroke-opacity:1.0;stroke-width:1.0\"></path><path d=\"M 396.021809817 286.810027968 L 361.069089366 332.705038873\" style=\"fill:none;stroke:rgb(40%,76.1%,64.7%);stroke-opacity:1.0;stroke-width:1.0\"></path><path d=\"M 347.518462478 459.818361067 L 308.123513561 516.398610164\" style=\"fill:none;stroke:rgb(40%,76.1%,64.7%);stroke-opacity:1.0;stroke-width:1.0\"></path><path d=\"M 347.518462478 459.818361067 L 369.165454933 528.862191383\" style=\"fill:none;stroke:rgb(40%,76.1%,64.7%);stroke-opacity:1.0;stroke-width:1.0\"></path><path d=\"M 347.518462478 459.818361067 L 331.004512904 550.0\" style=\"fill:none;stroke:rgb(40%,76.1%,64.7%);stroke-opacity:1.0;stroke-width:1.0\"></path><path d=\"M 308.123513561 516.398610164 L 369.165454933 528.862191383\" style=\"fill:none;stroke:rgb(40%,76.1%,64.7%);stroke-opacity:1.0;stroke-width:1.0\"></path><path d=\"M 308.123513561 516.398610164 L 331.004512904 550.0\" style=\"fill:none;stroke:rgb(40%,76.1%,64.7%);stroke-opacity:1.0;stroke-width:1.0\"></path><path d=\"M 369.165454933 528.862191383 L 331.004512904 550.0\" style=\"fill:none;stroke:rgb(40%,76.1%,64.7%);stroke-opacity:1.0;stroke-width:1.0\"></path><path d=\"M 265.250480273 123.383734723 L 336.0866379 229.901561209\" style=\"fill:none;stroke:rgb(40%,76.1%,64.7%);stroke-opacity:1.0;stroke-width:1.0\"></path><path d=\"M 361.069089366 332.705038873 L 347.518462478 459.818361067\" style=\"fill:none;stroke:rgb(40%,76.1%,64.7%);stroke-opacity:1.0;stroke-width:1.0\"></path></g><g class=\"toyplot-Vertices\"><g class=\"toyplot-Datum\" style=\"fill:rgb(40%,76.1%,64.7%);fill-opacity:1.0;opacity:1.0;stroke:rgb(40%,76.1%,64.7%);stroke-opacity:1.0\"><circle cx=\"209.68489556942228\" cy=\"50.0\" r=\"2.0\"></circle></g><g class=\"toyplot-Datum\" style=\"fill:rgb(40%,76.1%,64.7%);fill-opacity:1.0;opacity:1.0;stroke:rgb(40%,76.1%,64.7%);stroke-opacity:1.0\"><circle cx=\"253.05735307750501\" cy=\"51.808103187400434\" r=\"2.0\"></circle></g><g class=\"toyplot-Datum\" style=\"fill:rgb(40%,76.1%,64.7%);fill-opacity:1.0;opacity:1.0;stroke:rgb(40%,76.1%,64.7%);stroke-opacity:1.0\"><circle cx=\"203.97819018335846\" cy=\"90.838609021709999\" r=\"2.0\"></circle></g><g class=\"toyplot-Datum\" style=\"fill:rgb(40%,76.1%,64.7%);fill-opacity:1.0;opacity:1.0;stroke:rgb(40%,76.1%,64.7%);stroke-opacity:1.0\"><circle cx=\"265.25048027263921\" cy=\"123.38373472339872\" r=\"2.0\"></circle></g><g class=\"toyplot-Datum\" style=\"fill:rgb(40%,76.1%,64.7%);fill-opacity:1.0;opacity:1.0;stroke:rgb(40%,76.1%,64.7%);stroke-opacity:1.0\"><circle cx=\"336.08663789994222\" cy=\"229.90156120908347\" r=\"2.0\"></circle></g><g class=\"toyplot-Datum\" style=\"fill:rgb(40%,76.1%,64.7%);fill-opacity:1.0;opacity:1.0;stroke:rgb(40%,76.1%,64.7%);stroke-opacity:1.0\"><circle cx=\"392.50688881059352\" cy=\"253.25566693133214\" r=\"2.0\"></circle></g><g class=\"toyplot-Datum\" style=\"fill:rgb(40%,76.1%,64.7%);fill-opacity:1.0;opacity:1.0;stroke:rgb(40%,76.1%,64.7%);stroke-opacity:1.0\"><circle cx=\"396.02180981664145\" cy=\"286.81002796763073\" r=\"2.0\"></circle></g><g class=\"toyplot-Datum\" style=\"fill:rgb(40%,76.1%,64.7%);fill-opacity:1.0;opacity:1.0;stroke:rgb(40%,76.1%,64.7%);stroke-opacity:1.0\"><circle cx=\"361.06908936632647\" cy=\"332.70503887250106\" r=\"2.0\"></circle></g><g class=\"toyplot-Datum\" style=\"fill:rgb(40%,76.1%,64.7%);fill-opacity:1.0;opacity:1.0;stroke:rgb(40%,76.1%,64.7%);stroke-opacity:1.0\"><circle cx=\"347.51846247830969\" cy=\"459.81836106732754\" r=\"2.0\"></circle></g><g class=\"toyplot-Datum\" style=\"fill:rgb(40%,76.1%,64.7%);fill-opacity:1.0;opacity:1.0;stroke:rgb(40%,76.1%,64.7%);stroke-opacity:1.0\"><circle cx=\"308.12351356081211\" cy=\"516.39861016382122\" r=\"2.0\"></circle></g><g class=\"toyplot-Datum\" style=\"fill:rgb(40%,76.1%,64.7%);fill-opacity:1.0;opacity:1.0;stroke:rgb(40%,76.1%,64.7%);stroke-opacity:1.0\"><circle cx=\"369.16545493310974\" cy=\"528.86219138304273\" r=\"2.0\"></circle></g><g class=\"toyplot-Datum\" style=\"fill:rgb(40%,76.1%,64.7%);fill-opacity:1.0;opacity:1.0;stroke:rgb(40%,76.1%,64.7%);stroke-opacity:1.0\"><circle cx=\"331.00451290448143\" cy=\"550.0\" r=\"2.0\"></circle></g></g><g class=\"toyplot-Labels\"><g class=\"toyplot-Datum\" transform=\"translate(209.68489556942228,50.0)\"><text style=\"fill:rgb(16.1%,15.3%,14.1%);fill-opacity:1.0;font-family:helvetica;font-size:12.0;font-weight:normal;stroke:none;vertical-align:baseline;white-space:pre\" x=\"-3.336\" y=\"3.066\">1</text></g><g class=\"toyplot-Datum\" transform=\"translate(253.05735307750501,51.808103187400434)\"><text style=\"fill:rgb(16.1%,15.3%,14.1%);fill-opacity:1.0;font-family:helvetica;font-size:12.0;font-weight:normal;stroke:none;vertical-align:baseline;white-space:pre\" x=\"-3.336\" y=\"3.066\">2</text></g><g class=\"toyplot-Datum\" transform=\"translate(203.97819018335846,90.838609021709999)\"><text style=\"fill:rgb(16.1%,15.3%,14.1%);fill-opacity:1.0;font-family:helvetica;font-size:12.0;font-weight:normal;stroke:none;vertical-align:baseline;white-space:pre\" x=\"-3.336\" y=\"3.066\">3</text></g><g class=\"toyplot-Datum\" transform=\"translate(265.25048027263921,123.38373472339872)\"><text style=\"fill:rgb(16.1%,15.3%,14.1%);fill-opacity:1.0;font-family:helvetica;font-size:12.0;font-weight:normal;stroke:none;vertical-align:baseline;white-space:pre\" x=\"-3.336\" y=\"3.066\">4</text></g><g class=\"toyplot-Datum\" transform=\"translate(336.08663789994222,229.90156120908347)\"><text style=\"fill:rgb(16.1%,15.3%,14.1%);fill-opacity:1.0;font-family:helvetica;font-size:12.0;font-weight:normal;stroke:none;vertical-align:baseline;white-space:pre\" x=\"-3.336\" y=\"3.066\">5</text></g><g class=\"toyplot-Datum\" transform=\"translate(392.50688881059352,253.25566693133214)\"><text style=\"fill:rgb(16.1%,15.3%,14.1%);fill-opacity:1.0;font-family:helvetica;font-size:12.0;font-weight:normal;stroke:none;vertical-align:baseline;white-space:pre\" x=\"-3.336\" y=\"3.066\">6</text></g><g class=\"toyplot-Datum\" transform=\"translate(396.02180981664145,286.81002796763073)\"><text style=\"fill:rgb(16.1%,15.3%,14.1%);fill-opacity:1.0;font-family:helvetica;font-size:12.0;font-weight:normal;stroke:none;vertical-align:baseline;white-space:pre\" x=\"-3.336\" y=\"3.066\">7</text></g><g class=\"toyplot-Datum\" transform=\"translate(361.06908936632647,332.70503887250106)\"><text style=\"fill:rgb(16.1%,15.3%,14.1%);fill-opacity:1.0;font-family:helvetica;font-size:12.0;font-weight:normal;stroke:none;vertical-align:baseline;white-space:pre\" x=\"-3.336\" y=\"3.066\">8</text></g><g class=\"toyplot-Datum\" transform=\"translate(347.51846247830969,459.81836106732754)\"><text style=\"fill:rgb(16.1%,15.3%,14.1%);fill-opacity:1.0;font-family:helvetica;font-size:12.0;font-weight:normal;stroke:none;vertical-align:baseline;white-space:pre\" x=\"-3.336\" y=\"3.066\">9</text></g><g class=\"toyplot-Datum\" transform=\"translate(308.12351356081211,516.39861016382122)\"><text style=\"fill:rgb(16.1%,15.3%,14.1%);fill-opacity:1.0;font-family:helvetica;font-size:12.0;font-weight:normal;stroke:none;vertical-align:baseline;white-space:pre\" x=\"-6.672\" y=\"3.066\">10</text></g><g class=\"toyplot-Datum\" transform=\"translate(369.16545493310974,528.86219138304273)\"><text style=\"fill:rgb(16.1%,15.3%,14.1%);fill-opacity:1.0;font-family:helvetica;font-size:12.0;font-weight:normal;stroke:none;vertical-align:baseline;white-space:pre\" x=\"-6.672\" y=\"3.066\">11</text></g><g class=\"toyplot-Datum\" transform=\"translate(331.00451290448143,550.0)\"><text style=\"fill:rgb(16.1%,15.3%,14.1%);fill-opacity:1.0;font-family:helvetica;font-size:12.0;font-weight:normal;stroke:none;vertical-align:baseline;white-space:pre\" x=\"-6.672\" y=\"3.066\">12</text></g></g></g></g></g></svg><div class=\"toyplot-interactive\"></div></div>"
      ]
     },
     "metadata": {},
     "output_type": "display_data"
    }
   ],
   "source": [
    "import toyplot\n",
    "toyplot.graph(edges);"
   ]
  },
  {
   "cell_type": "markdown",
   "metadata": {},
   "source": [
    "## Ground Truth Communities\n",
    "\n",
    "Next, we load a set of ground truth community assignments from a text file into a $V \\times 2$ matrix containing the vertex ID and community ID for each of $V$ vertices (note that in this case the assignments are already sorted in ID order, if they hadn't been, we'd need to sort them explicitly):"
   ]
  },
  {
   "cell_type": "code",
   "execution_count": 3,
   "metadata": {},
   "outputs": [
    {
     "data": {
      "text/plain": [
       "array([[ 1,  1],\n",
       "       [ 2,  1],\n",
       "       [ 3,  1],\n",
       "       [ 4,  1],\n",
       "       [ 5,  2],\n",
       "       [ 6,  2],\n",
       "       [ 7,  2],\n",
       "       [ 8,  2],\n",
       "       [ 9,  3],\n",
       "       [10,  3],\n",
       "       [11,  3],\n",
       "       [12,  3]])"
      ]
     },
     "execution_count": 3,
     "metadata": {},
     "output_type": "execute_result"
    }
   ],
   "source": [
    "ground_truth = numpy.array([row.split() for row in open(\"communities.ground-truth\")], dtype=\"int\")\n",
    "ground_truth"
   ]
  },
  {
   "cell_type": "markdown",
   "metadata": {},
   "source": [
    "We want to color each graph vertex by its community ID, so we create an appropriate categorical colormap:"
   ]
  },
  {
   "cell_type": "code",
   "execution_count": 4,
   "metadata": {},
   "outputs": [
    {
     "data": {
      "text/html": [
       "<div class=\"toyplot-color-CategoricalMap\" style=\"overflow:hidden; height:auto\"><div style=\"float:left;width:20px;height:20px;margin-right:0px;background-color:rgba(40.0%,76.1%,64.7%,1.000)\"></div><div style=\"float:left;width:20px;height:20px;margin-right:0px;background-color:rgba(98.8%,55.3%,38.4%,1.000)\"></div><div style=\"float:left;width:20px;height:20px;margin-right:0px;background-color:rgba(55.3%,62.7%,79.6%,1.000)\"></div><div style=\"float:left;width:20px;height:20px;margin-right:0px;background-color:rgba(90.6%,54.1%,76.5%,1.000)\"></div><div style=\"float:left;width:20px;height:20px;margin-right:0px;background-color:rgba(65.1%,84.7%,32.9%,1.000)\"></div><div style=\"float:left;width:20px;height:20px;margin-right:0px;background-color:rgba(100.0%,85.1%,18.4%,1.000)\"></div><div style=\"float:left;width:20px;height:20px;margin-right:0px;background-color:rgba(89.8%,76.9%,58.0%,1.000)\"></div><div style=\"float:left;width:20px;height:20px;margin-right:0px;background-color:rgba(70.2%,70.2%,70.2%,1.000)\"></div></div>"
      ],
      "text/plain": [
       "<toyplot.color.CategoricalMap at 0x117241710>"
      ]
     },
     "execution_count": 4,
     "metadata": {},
     "output_type": "execute_result"
    }
   ],
   "source": [
    "colormap = toyplot.color.brewer.map(\"Set2\")\n",
    "colormap"
   ]
  },
  {
   "cell_type": "markdown",
   "metadata": {},
   "source": [
    "Now we can rerender the graph, overriding the default edge color, vertex size, vertex label style, and vertex color:"
   ]
  },
  {
   "cell_type": "code",
   "execution_count": 5,
   "metadata": {},
   "outputs": [
    {
     "data": {
      "text/html": [
       "<div align=\"center\" class=\"toyplot\" id=\"t34ba394b851a4ab7bde327eb46b24213\"><svg class=\"toyplot-canvas-Canvas\" height=\"600px\" id=\"tfc5449b7af034688844a04370f7964bf\" preserveAspectRatio=\"xMidYMid meet\" style=\"background-color:transparent;fill:rgb(16.1%,15.3%,14.1%);fill-opacity:1.0;font-family:Helvetica;font-size:12px;opacity:1.0;stroke:rgb(16.1%,15.3%,14.1%);stroke-opacity:1.0;stroke-width:1.0\" viewBox=\"0 0 600 600\" width=\"600px\" xmlns=\"http://www.w3.org/2000/svg\" xmlns:toyplot=\"http://www.sandia.gov/toyplot\" xmlns:xlink=\"http://www.w3.org/1999/xlink\"><g class=\"toyplot-coordinates-Cartesian\" id=\"t87f812eb8efc4b9fb8066d5bb86dad88\"><clipPath id=\"t970c01bba5d74ed4a4d81ef582fea639\"><rect height=\"540.0\" width=\"540.0\" x=\"30.0\" y=\"30.0\"></rect></clipPath><g clip-path=\"url(#t970c01bba5d74ed4a4d81ef582fea639)\"><g class=\"toyplot-mark-Graph\" id=\"t1d7743fec0ab4bf38a13bf0d6300a292\"><g class=\"toyplot-Edges\"><path d=\"M 209.684895569 50.0 L 253.057353078 51.8081031874\" style=\"fill:none;stroke:rgb(82.7%,82.7%,82.7%);stroke-opacity:1.0;stroke-width:1.0\"></path><path d=\"M 209.684895569 50.0 L 203.978190183 90.8386090217\" style=\"fill:none;stroke:rgb(82.7%,82.7%,82.7%);stroke-opacity:1.0;stroke-width:1.0\"></path><path d=\"M 209.684895569 50.0 L 265.250480273 123.383734723\" style=\"fill:none;stroke:rgb(82.7%,82.7%,82.7%);stroke-opacity:1.0;stroke-width:1.0\"></path><path d=\"M 253.057353078 51.8081031874 L 203.978190183 90.8386090217\" style=\"fill:none;stroke:rgb(82.7%,82.7%,82.7%);stroke-opacity:1.0;stroke-width:1.0\"></path><path d=\"M 253.057353078 51.8081031874 L 265.250480273 123.383734723\" style=\"fill:none;stroke:rgb(82.7%,82.7%,82.7%);stroke-opacity:1.0;stroke-width:1.0\"></path><path d=\"M 203.978190183 90.8386090217 L 265.250480273 123.383734723\" style=\"fill:none;stroke:rgb(82.7%,82.7%,82.7%);stroke-opacity:1.0;stroke-width:1.0\"></path><path d=\"M 336.0866379 229.901561209 L 392.506888811 253.255666931\" style=\"fill:none;stroke:rgb(82.7%,82.7%,82.7%);stroke-opacity:1.0;stroke-width:1.0\"></path><path d=\"M 336.0866379 229.901561209 L 396.021809817 286.810027968\" style=\"fill:none;stroke:rgb(82.7%,82.7%,82.7%);stroke-opacity:1.0;stroke-width:1.0\"></path><path d=\"M 336.0866379 229.901561209 L 361.069089366 332.705038873\" style=\"fill:none;stroke:rgb(82.7%,82.7%,82.7%);stroke-opacity:1.0;stroke-width:1.0\"></path><path d=\"M 392.506888811 253.255666931 L 396.021809817 286.810027968\" style=\"fill:none;stroke:rgb(82.7%,82.7%,82.7%);stroke-opacity:1.0;stroke-width:1.0\"></path><path d=\"M 392.506888811 253.255666931 L 361.069089366 332.705038873\" style=\"fill:none;stroke:rgb(82.7%,82.7%,82.7%);stroke-opacity:1.0;stroke-width:1.0\"></path><path d=\"M 396.021809817 286.810027968 L 361.069089366 332.705038873\" style=\"fill:none;stroke:rgb(82.7%,82.7%,82.7%);stroke-opacity:1.0;stroke-width:1.0\"></path><path d=\"M 347.518462478 459.818361067 L 308.123513561 516.398610164\" style=\"fill:none;stroke:rgb(82.7%,82.7%,82.7%);stroke-opacity:1.0;stroke-width:1.0\"></path><path d=\"M 347.518462478 459.818361067 L 369.165454933 528.862191383\" style=\"fill:none;stroke:rgb(82.7%,82.7%,82.7%);stroke-opacity:1.0;stroke-width:1.0\"></path><path d=\"M 347.518462478 459.818361067 L 331.004512904 550.0\" style=\"fill:none;stroke:rgb(82.7%,82.7%,82.7%);stroke-opacity:1.0;stroke-width:1.0\"></path><path d=\"M 308.123513561 516.398610164 L 369.165454933 528.862191383\" style=\"fill:none;stroke:rgb(82.7%,82.7%,82.7%);stroke-opacity:1.0;stroke-width:1.0\"></path><path d=\"M 308.123513561 516.398610164 L 331.004512904 550.0\" style=\"fill:none;stroke:rgb(82.7%,82.7%,82.7%);stroke-opacity:1.0;stroke-width:1.0\"></path><path d=\"M 369.165454933 528.862191383 L 331.004512904 550.0\" style=\"fill:none;stroke:rgb(82.7%,82.7%,82.7%);stroke-opacity:1.0;stroke-width:1.0\"></path><path d=\"M 265.250480273 123.383734723 L 336.0866379 229.901561209\" style=\"fill:none;stroke:rgb(82.7%,82.7%,82.7%);stroke-opacity:1.0;stroke-width:1.0\"></path><path d=\"M 361.069089366 332.705038873 L 347.518462478 459.818361067\" style=\"fill:none;stroke:rgb(82.7%,82.7%,82.7%);stroke-opacity:1.0;stroke-width:1.0\"></path></g><g class=\"toyplot-Vertices\"><g class=\"toyplot-Datum\" style=\"fill:rgb(98.8%,55.3%,38.4%);fill-opacity:1.0;opacity:1.0;stroke:rgb(98.8%,55.3%,38.4%);stroke-opacity:1.0\"><circle cx=\"209.68489556942228\" cy=\"50.0\" r=\"10.0\"></circle></g><g class=\"toyplot-Datum\" style=\"fill:rgb(98.8%,55.3%,38.4%);fill-opacity:1.0;opacity:1.0;stroke:rgb(98.8%,55.3%,38.4%);stroke-opacity:1.0\"><circle cx=\"253.05735307750501\" cy=\"51.808103187400434\" r=\"10.0\"></circle></g><g class=\"toyplot-Datum\" style=\"fill:rgb(98.8%,55.3%,38.4%);fill-opacity:1.0;opacity:1.0;stroke:rgb(98.8%,55.3%,38.4%);stroke-opacity:1.0\"><circle cx=\"203.97819018335846\" cy=\"90.838609021709999\" r=\"10.0\"></circle></g><g class=\"toyplot-Datum\" style=\"fill:rgb(98.8%,55.3%,38.4%);fill-opacity:1.0;opacity:1.0;stroke:rgb(98.8%,55.3%,38.4%);stroke-opacity:1.0\"><circle cx=\"265.25048027263921\" cy=\"123.38373472339872\" r=\"10.0\"></circle></g><g class=\"toyplot-Datum\" style=\"fill:rgb(55.3%,62.7%,79.6%);fill-opacity:1.0;opacity:1.0;stroke:rgb(55.3%,62.7%,79.6%);stroke-opacity:1.0\"><circle cx=\"336.08663789994222\" cy=\"229.90156120908347\" r=\"10.0\"></circle></g><g class=\"toyplot-Datum\" style=\"fill:rgb(55.3%,62.7%,79.6%);fill-opacity:1.0;opacity:1.0;stroke:rgb(55.3%,62.7%,79.6%);stroke-opacity:1.0\"><circle cx=\"392.50688881059352\" cy=\"253.25566693133214\" r=\"10.0\"></circle></g><g class=\"toyplot-Datum\" style=\"fill:rgb(55.3%,62.7%,79.6%);fill-opacity:1.0;opacity:1.0;stroke:rgb(55.3%,62.7%,79.6%);stroke-opacity:1.0\"><circle cx=\"396.02180981664145\" cy=\"286.81002796763073\" r=\"10.0\"></circle></g><g class=\"toyplot-Datum\" style=\"fill:rgb(55.3%,62.7%,79.6%);fill-opacity:1.0;opacity:1.0;stroke:rgb(55.3%,62.7%,79.6%);stroke-opacity:1.0\"><circle cx=\"361.06908936632647\" cy=\"332.70503887250106\" r=\"10.0\"></circle></g><g class=\"toyplot-Datum\" style=\"fill:rgb(90.6%,54.1%,76.5%);fill-opacity:1.0;opacity:1.0;stroke:rgb(90.6%,54.1%,76.5%);stroke-opacity:1.0\"><circle cx=\"347.51846247830969\" cy=\"459.81836106732754\" r=\"10.0\"></circle></g><g class=\"toyplot-Datum\" style=\"fill:rgb(90.6%,54.1%,76.5%);fill-opacity:1.0;opacity:1.0;stroke:rgb(90.6%,54.1%,76.5%);stroke-opacity:1.0\"><circle cx=\"308.12351356081211\" cy=\"516.39861016382122\" r=\"10.0\"></circle></g><g class=\"toyplot-Datum\" style=\"fill:rgb(90.6%,54.1%,76.5%);fill-opacity:1.0;opacity:1.0;stroke:rgb(90.6%,54.1%,76.5%);stroke-opacity:1.0\"><circle cx=\"369.16545493310974\" cy=\"528.86219138304273\" r=\"10.0\"></circle></g><g class=\"toyplot-Datum\" style=\"fill:rgb(90.6%,54.1%,76.5%);fill-opacity:1.0;opacity:1.0;stroke:rgb(90.6%,54.1%,76.5%);stroke-opacity:1.0\"><circle cx=\"331.00451290448143\" cy=\"550.0\" r=\"10.0\"></circle></g></g><g class=\"toyplot-Labels\"><g class=\"toyplot-Datum\" transform=\"translate(209.68489556942228,50.0)\"><text style=\"fill:rgb(100%,100%,100%);fill-opacity:1.0;font-family:helvetica;font-size:12.0;font-weight:normal;stroke:none;vertical-align:baseline;white-space:pre\" x=\"-3.336\" y=\"3.066\">1</text></g><g class=\"toyplot-Datum\" transform=\"translate(253.05735307750501,51.808103187400434)\"><text style=\"fill:rgb(100%,100%,100%);fill-opacity:1.0;font-family:helvetica;font-size:12.0;font-weight:normal;stroke:none;vertical-align:baseline;white-space:pre\" x=\"-3.336\" y=\"3.066\">2</text></g><g class=\"toyplot-Datum\" transform=\"translate(203.97819018335846,90.838609021709999)\"><text style=\"fill:rgb(100%,100%,100%);fill-opacity:1.0;font-family:helvetica;font-size:12.0;font-weight:normal;stroke:none;vertical-align:baseline;white-space:pre\" x=\"-3.336\" y=\"3.066\">3</text></g><g class=\"toyplot-Datum\" transform=\"translate(265.25048027263921,123.38373472339872)\"><text style=\"fill:rgb(100%,100%,100%);fill-opacity:1.0;font-family:helvetica;font-size:12.0;font-weight:normal;stroke:none;vertical-align:baseline;white-space:pre\" x=\"-3.336\" y=\"3.066\">4</text></g><g class=\"toyplot-Datum\" transform=\"translate(336.08663789994222,229.90156120908347)\"><text style=\"fill:rgb(100%,100%,100%);fill-opacity:1.0;font-family:helvetica;font-size:12.0;font-weight:normal;stroke:none;vertical-align:baseline;white-space:pre\" x=\"-3.336\" y=\"3.066\">5</text></g><g class=\"toyplot-Datum\" transform=\"translate(392.50688881059352,253.25566693133214)\"><text style=\"fill:rgb(100%,100%,100%);fill-opacity:1.0;font-family:helvetica;font-size:12.0;font-weight:normal;stroke:none;vertical-align:baseline;white-space:pre\" x=\"-3.336\" y=\"3.066\">6</text></g><g class=\"toyplot-Datum\" transform=\"translate(396.02180981664145,286.81002796763073)\"><text style=\"fill:rgb(100%,100%,100%);fill-opacity:1.0;font-family:helvetica;font-size:12.0;font-weight:normal;stroke:none;vertical-align:baseline;white-space:pre\" x=\"-3.336\" y=\"3.066\">7</text></g><g class=\"toyplot-Datum\" transform=\"translate(361.06908936632647,332.70503887250106)\"><text style=\"fill:rgb(100%,100%,100%);fill-opacity:1.0;font-family:helvetica;font-size:12.0;font-weight:normal;stroke:none;vertical-align:baseline;white-space:pre\" x=\"-3.336\" y=\"3.066\">8</text></g><g class=\"toyplot-Datum\" transform=\"translate(347.51846247830969,459.81836106732754)\"><text style=\"fill:rgb(100%,100%,100%);fill-opacity:1.0;font-family:helvetica;font-size:12.0;font-weight:normal;stroke:none;vertical-align:baseline;white-space:pre\" x=\"-3.336\" y=\"3.066\">9</text></g><g class=\"toyplot-Datum\" transform=\"translate(308.12351356081211,516.39861016382122)\"><text style=\"fill:rgb(100%,100%,100%);fill-opacity:1.0;font-family:helvetica;font-size:12.0;font-weight:normal;stroke:none;vertical-align:baseline;white-space:pre\" x=\"-6.672\" y=\"3.066\">10</text></g><g class=\"toyplot-Datum\" transform=\"translate(369.16545493310974,528.86219138304273)\"><text style=\"fill:rgb(100%,100%,100%);fill-opacity:1.0;font-family:helvetica;font-size:12.0;font-weight:normal;stroke:none;vertical-align:baseline;white-space:pre\" x=\"-6.672\" y=\"3.066\">11</text></g><g class=\"toyplot-Datum\" transform=\"translate(331.00451290448143,550.0)\"><text style=\"fill:rgb(100%,100%,100%);fill-opacity:1.0;font-family:helvetica;font-size:12.0;font-weight:normal;stroke:none;vertical-align:baseline;white-space:pre\" x=\"-6.672\" y=\"3.066\">12</text></g></g></g></g></g></svg><div class=\"toyplot-interactive\"></div></div>"
      ]
     },
     "metadata": {},
     "output_type": "display_data"
    }
   ],
   "source": [
    "ecolor = \"lightgray\"\n",
    "vlstyle = {\"fill\":\"white\"}\n",
    "vcolor = ground_truth[:,1]\n",
    "toyplot.graph(edges, ecolor=ecolor, vsize=20, vlstyle=vlstyle, vcolor=(vcolor, colormap));"
   ]
  },
  {
   "cell_type": "markdown",
   "metadata": {},
   "source": [
    "## Assigned Communities\n",
    "\n",
    "Next, we render the graph again using a different set of community ID values, generated using a hypothetical community detection algorithm that we are working on:"
   ]
  },
  {
   "cell_type": "code",
   "execution_count": 6,
   "metadata": {},
   "outputs": [
    {
     "data": {
      "text/plain": [
       "array([[ 1,  4],\n",
       "       [ 2,  1],\n",
       "       [ 3,  1],\n",
       "       [ 4,  1],\n",
       "       [ 5,  2],\n",
       "       [ 6,  2],\n",
       "       [ 7,  2],\n",
       "       [ 8,  2],\n",
       "       [ 9,  2],\n",
       "       [10,  2],\n",
       "       [11,  2],\n",
       "       [12,  2]])"
      ]
     },
     "execution_count": 6,
     "metadata": {},
     "output_type": "execute_result"
    }
   ],
   "source": [
    "assigned = numpy.array([row.split() for row in open(\"communities.assigned\")], dtype=\"int\")\n",
    "assigned"
   ]
  },
  {
   "cell_type": "code",
   "execution_count": 7,
   "metadata": {},
   "outputs": [
    {
     "data": {
      "text/html": [
       "<div align=\"center\" class=\"toyplot\" id=\"tcf7edf6cbfbc4de89ab5cfa4434fe7f3\"><svg class=\"toyplot-canvas-Canvas\" height=\"600px\" id=\"t8ac9ad8f401e461a8b8640980f67f71b\" preserveAspectRatio=\"xMidYMid meet\" style=\"background-color:transparent;fill:rgb(16.1%,15.3%,14.1%);fill-opacity:1.0;font-family:Helvetica;font-size:12px;opacity:1.0;stroke:rgb(16.1%,15.3%,14.1%);stroke-opacity:1.0;stroke-width:1.0\" viewBox=\"0 0 600 600\" width=\"600px\" xmlns=\"http://www.w3.org/2000/svg\" xmlns:toyplot=\"http://www.sandia.gov/toyplot\" xmlns:xlink=\"http://www.w3.org/1999/xlink\"><g class=\"toyplot-coordinates-Cartesian\" id=\"t445a333e010d429aba52ced8cd2aa6a8\"><clipPath id=\"taef355e87cab48b7aeee711ca20b7729\"><rect height=\"540.0\" width=\"540.0\" x=\"30.0\" y=\"30.0\"></rect></clipPath><g clip-path=\"url(#taef355e87cab48b7aeee711ca20b7729)\"><g class=\"toyplot-mark-Graph\" id=\"t15125cce801d40ab86ce43f2feb0c12e\"><g class=\"toyplot-Edges\"><path d=\"M 209.684895569 50.0 L 253.057353078 51.8081031874\" style=\"fill:none;stroke:rgb(82.7%,82.7%,82.7%);stroke-opacity:1.0;stroke-width:1.0\"></path><path d=\"M 209.684895569 50.0 L 203.978190183 90.8386090217\" style=\"fill:none;stroke:rgb(82.7%,82.7%,82.7%);stroke-opacity:1.0;stroke-width:1.0\"></path><path d=\"M 209.684895569 50.0 L 265.250480273 123.383734723\" style=\"fill:none;stroke:rgb(82.7%,82.7%,82.7%);stroke-opacity:1.0;stroke-width:1.0\"></path><path d=\"M 253.057353078 51.8081031874 L 203.978190183 90.8386090217\" style=\"fill:none;stroke:rgb(82.7%,82.7%,82.7%);stroke-opacity:1.0;stroke-width:1.0\"></path><path d=\"M 253.057353078 51.8081031874 L 265.250480273 123.383734723\" style=\"fill:none;stroke:rgb(82.7%,82.7%,82.7%);stroke-opacity:1.0;stroke-width:1.0\"></path><path d=\"M 203.978190183 90.8386090217 L 265.250480273 123.383734723\" style=\"fill:none;stroke:rgb(82.7%,82.7%,82.7%);stroke-opacity:1.0;stroke-width:1.0\"></path><path d=\"M 336.0866379 229.901561209 L 392.506888811 253.255666931\" style=\"fill:none;stroke:rgb(82.7%,82.7%,82.7%);stroke-opacity:1.0;stroke-width:1.0\"></path><path d=\"M 336.0866379 229.901561209 L 396.021809817 286.810027968\" style=\"fill:none;stroke:rgb(82.7%,82.7%,82.7%);stroke-opacity:1.0;stroke-width:1.0\"></path><path d=\"M 336.0866379 229.901561209 L 361.069089366 332.705038873\" style=\"fill:none;stroke:rgb(82.7%,82.7%,82.7%);stroke-opacity:1.0;stroke-width:1.0\"></path><path d=\"M 392.506888811 253.255666931 L 396.021809817 286.810027968\" style=\"fill:none;stroke:rgb(82.7%,82.7%,82.7%);stroke-opacity:1.0;stroke-width:1.0\"></path><path d=\"M 392.506888811 253.255666931 L 361.069089366 332.705038873\" style=\"fill:none;stroke:rgb(82.7%,82.7%,82.7%);stroke-opacity:1.0;stroke-width:1.0\"></path><path d=\"M 396.021809817 286.810027968 L 361.069089366 332.705038873\" style=\"fill:none;stroke:rgb(82.7%,82.7%,82.7%);stroke-opacity:1.0;stroke-width:1.0\"></path><path d=\"M 347.518462478 459.818361067 L 308.123513561 516.398610164\" style=\"fill:none;stroke:rgb(82.7%,82.7%,82.7%);stroke-opacity:1.0;stroke-width:1.0\"></path><path d=\"M 347.518462478 459.818361067 L 369.165454933 528.862191383\" style=\"fill:none;stroke:rgb(82.7%,82.7%,82.7%);stroke-opacity:1.0;stroke-width:1.0\"></path><path d=\"M 347.518462478 459.818361067 L 331.004512904 550.0\" style=\"fill:none;stroke:rgb(82.7%,82.7%,82.7%);stroke-opacity:1.0;stroke-width:1.0\"></path><path d=\"M 308.123513561 516.398610164 L 369.165454933 528.862191383\" style=\"fill:none;stroke:rgb(82.7%,82.7%,82.7%);stroke-opacity:1.0;stroke-width:1.0\"></path><path d=\"M 308.123513561 516.398610164 L 331.004512904 550.0\" style=\"fill:none;stroke:rgb(82.7%,82.7%,82.7%);stroke-opacity:1.0;stroke-width:1.0\"></path><path d=\"M 369.165454933 528.862191383 L 331.004512904 550.0\" style=\"fill:none;stroke:rgb(82.7%,82.7%,82.7%);stroke-opacity:1.0;stroke-width:1.0\"></path><path d=\"M 265.250480273 123.383734723 L 336.0866379 229.901561209\" style=\"fill:none;stroke:rgb(82.7%,82.7%,82.7%);stroke-opacity:1.0;stroke-width:1.0\"></path><path d=\"M 361.069089366 332.705038873 L 347.518462478 459.818361067\" style=\"fill:none;stroke:rgb(82.7%,82.7%,82.7%);stroke-opacity:1.0;stroke-width:1.0\"></path></g><g class=\"toyplot-Vertices\"><g class=\"toyplot-Datum\" style=\"fill:rgb(65.1%,84.7%,32.9%);fill-opacity:1.0;opacity:1.0;stroke:rgb(65.1%,84.7%,32.9%);stroke-opacity:1.0\"><circle cx=\"209.68489556942228\" cy=\"50.0\" r=\"10.0\"></circle></g><g class=\"toyplot-Datum\" style=\"fill:rgb(98.8%,55.3%,38.4%);fill-opacity:1.0;opacity:1.0;stroke:rgb(98.8%,55.3%,38.4%);stroke-opacity:1.0\"><circle cx=\"253.05735307750501\" cy=\"51.808103187400434\" r=\"10.0\"></circle></g><g class=\"toyplot-Datum\" style=\"fill:rgb(98.8%,55.3%,38.4%);fill-opacity:1.0;opacity:1.0;stroke:rgb(98.8%,55.3%,38.4%);stroke-opacity:1.0\"><circle cx=\"203.97819018335846\" cy=\"90.838609021709999\" r=\"10.0\"></circle></g><g class=\"toyplot-Datum\" style=\"fill:rgb(98.8%,55.3%,38.4%);fill-opacity:1.0;opacity:1.0;stroke:rgb(98.8%,55.3%,38.4%);stroke-opacity:1.0\"><circle cx=\"265.25048027263921\" cy=\"123.38373472339872\" r=\"10.0\"></circle></g><g class=\"toyplot-Datum\" style=\"fill:rgb(55.3%,62.7%,79.6%);fill-opacity:1.0;opacity:1.0;stroke:rgb(55.3%,62.7%,79.6%);stroke-opacity:1.0\"><circle cx=\"336.08663789994222\" cy=\"229.90156120908347\" r=\"10.0\"></circle></g><g class=\"toyplot-Datum\" style=\"fill:rgb(55.3%,62.7%,79.6%);fill-opacity:1.0;opacity:1.0;stroke:rgb(55.3%,62.7%,79.6%);stroke-opacity:1.0\"><circle cx=\"392.50688881059352\" cy=\"253.25566693133214\" r=\"10.0\"></circle></g><g class=\"toyplot-Datum\" style=\"fill:rgb(55.3%,62.7%,79.6%);fill-opacity:1.0;opacity:1.0;stroke:rgb(55.3%,62.7%,79.6%);stroke-opacity:1.0\"><circle cx=\"396.02180981664145\" cy=\"286.81002796763073\" r=\"10.0\"></circle></g><g class=\"toyplot-Datum\" style=\"fill:rgb(55.3%,62.7%,79.6%);fill-opacity:1.0;opacity:1.0;stroke:rgb(55.3%,62.7%,79.6%);stroke-opacity:1.0\"><circle cx=\"361.06908936632647\" cy=\"332.70503887250106\" r=\"10.0\"></circle></g><g class=\"toyplot-Datum\" style=\"fill:rgb(55.3%,62.7%,79.6%);fill-opacity:1.0;opacity:1.0;stroke:rgb(55.3%,62.7%,79.6%);stroke-opacity:1.0\"><circle cx=\"347.51846247830969\" cy=\"459.81836106732754\" r=\"10.0\"></circle></g><g class=\"toyplot-Datum\" style=\"fill:rgb(55.3%,62.7%,79.6%);fill-opacity:1.0;opacity:1.0;stroke:rgb(55.3%,62.7%,79.6%);stroke-opacity:1.0\"><circle cx=\"308.12351356081211\" cy=\"516.39861016382122\" r=\"10.0\"></circle></g><g class=\"toyplot-Datum\" style=\"fill:rgb(55.3%,62.7%,79.6%);fill-opacity:1.0;opacity:1.0;stroke:rgb(55.3%,62.7%,79.6%);stroke-opacity:1.0\"><circle cx=\"369.16545493310974\" cy=\"528.86219138304273\" r=\"10.0\"></circle></g><g class=\"toyplot-Datum\" style=\"fill:rgb(55.3%,62.7%,79.6%);fill-opacity:1.0;opacity:1.0;stroke:rgb(55.3%,62.7%,79.6%);stroke-opacity:1.0\"><circle cx=\"331.00451290448143\" cy=\"550.0\" r=\"10.0\"></circle></g></g><g class=\"toyplot-Labels\"><g class=\"toyplot-Datum\" transform=\"translate(209.68489556942228,50.0)\"><text style=\"fill:rgb(100%,100%,100%);fill-opacity:1.0;font-family:helvetica;font-size:12.0;font-weight:normal;stroke:none;vertical-align:baseline;white-space:pre\" x=\"-3.336\" y=\"3.066\">1</text></g><g class=\"toyplot-Datum\" transform=\"translate(253.05735307750501,51.808103187400434)\"><text style=\"fill:rgb(100%,100%,100%);fill-opacity:1.0;font-family:helvetica;font-size:12.0;font-weight:normal;stroke:none;vertical-align:baseline;white-space:pre\" x=\"-3.336\" y=\"3.066\">2</text></g><g class=\"toyplot-Datum\" transform=\"translate(203.97819018335846,90.838609021709999)\"><text style=\"fill:rgb(100%,100%,100%);fill-opacity:1.0;font-family:helvetica;font-size:12.0;font-weight:normal;stroke:none;vertical-align:baseline;white-space:pre\" x=\"-3.336\" y=\"3.066\">3</text></g><g class=\"toyplot-Datum\" transform=\"translate(265.25048027263921,123.38373472339872)\"><text style=\"fill:rgb(100%,100%,100%);fill-opacity:1.0;font-family:helvetica;font-size:12.0;font-weight:normal;stroke:none;vertical-align:baseline;white-space:pre\" x=\"-3.336\" y=\"3.066\">4</text></g><g class=\"toyplot-Datum\" transform=\"translate(336.08663789994222,229.90156120908347)\"><text style=\"fill:rgb(100%,100%,100%);fill-opacity:1.0;font-family:helvetica;font-size:12.0;font-weight:normal;stroke:none;vertical-align:baseline;white-space:pre\" x=\"-3.336\" y=\"3.066\">5</text></g><g class=\"toyplot-Datum\" transform=\"translate(392.50688881059352,253.25566693133214)\"><text style=\"fill:rgb(100%,100%,100%);fill-opacity:1.0;font-family:helvetica;font-size:12.0;font-weight:normal;stroke:none;vertical-align:baseline;white-space:pre\" x=\"-3.336\" y=\"3.066\">6</text></g><g class=\"toyplot-Datum\" transform=\"translate(396.02180981664145,286.81002796763073)\"><text style=\"fill:rgb(100%,100%,100%);fill-opacity:1.0;font-family:helvetica;font-size:12.0;font-weight:normal;stroke:none;vertical-align:baseline;white-space:pre\" x=\"-3.336\" y=\"3.066\">7</text></g><g class=\"toyplot-Datum\" transform=\"translate(361.06908936632647,332.70503887250106)\"><text style=\"fill:rgb(100%,100%,100%);fill-opacity:1.0;font-family:helvetica;font-size:12.0;font-weight:normal;stroke:none;vertical-align:baseline;white-space:pre\" x=\"-3.336\" y=\"3.066\">8</text></g><g class=\"toyplot-Datum\" transform=\"translate(347.51846247830969,459.81836106732754)\"><text style=\"fill:rgb(100%,100%,100%);fill-opacity:1.0;font-family:helvetica;font-size:12.0;font-weight:normal;stroke:none;vertical-align:baseline;white-space:pre\" x=\"-3.336\" y=\"3.066\">9</text></g><g class=\"toyplot-Datum\" transform=\"translate(308.12351356081211,516.39861016382122)\"><text style=\"fill:rgb(100%,100%,100%);fill-opacity:1.0;font-family:helvetica;font-size:12.0;font-weight:normal;stroke:none;vertical-align:baseline;white-space:pre\" x=\"-6.672\" y=\"3.066\">10</text></g><g class=\"toyplot-Datum\" transform=\"translate(369.16545493310974,528.86219138304273)\"><text style=\"fill:rgb(100%,100%,100%);fill-opacity:1.0;font-family:helvetica;font-size:12.0;font-weight:normal;stroke:none;vertical-align:baseline;white-space:pre\" x=\"-6.672\" y=\"3.066\">11</text></g><g class=\"toyplot-Datum\" transform=\"translate(331.00451290448143,550.0)\"><text style=\"fill:rgb(100%,100%,100%);fill-opacity:1.0;font-family:helvetica;font-size:12.0;font-weight:normal;stroke:none;vertical-align:baseline;white-space:pre\" x=\"-6.672\" y=\"3.066\">12</text></g></g></g></g></g></svg><div class=\"toyplot-interactive\"></div></div>"
      ]
     },
     "metadata": {},
     "output_type": "display_data"
    }
   ],
   "source": [
    "vcolor = assigned[:,1]\n",
    "toyplot.graph(edges, ecolor=ecolor, vsize=20, vlstyle=vlstyle, vcolor=(vcolor, colormap));"
   ]
  },
  {
   "cell_type": "markdown",
   "metadata": {},
   "source": [
    "We want to compare the ground truth communities with the communities assigned by our algorithm, but there are two challenges:\n",
    "\n",
    "* Flipping back-and-forth between the two visualizations and trying to understand what changed is extremely difficult.\n",
    "* Even if the algorithm we're testing arrives at identical community memberships across the graph, it is unlikely that it would happen to assign the same ID for each community ... so even in the best case, the vertex colors won't match the ground truth.\n",
    "\n",
    "What we need is a way to highlight the *differences* between the two sets of communities, so we only have to look at a single visualization.  The following is suggested by Jon Berry at Sandia National Laboratories:"
   ]
  },
  {
   "cell_type": "markdown",
   "metadata": {},
   "source": [
    "## Highlighting Edge Types\n",
    "\n",
    "We will render the graph using the vertex colors assigned by the algorithm, but with the edges colored using a set of rules that highlight the differences between the ground truth and assigned communities:\n",
    "\n",
    "* Edges that are intra-community in both ground truth and assigned communities remain light gray.\n",
    "* Edges that are inter-community in both ground truth and assigned communities remain light gray.\n",
    "* Edges that are intra-community in the ground truth but inter-community for the assigned communities are displayed red (i.e. the assignment split up a ground truth community).\n",
    "* Edges that are inter-community in the ground truth but intra-community for the assigned communities are displayed green (i.e. the assignment merged two ground-truth communities)."
   ]
  },
  {
   "cell_type": "code",
   "execution_count": 8,
   "metadata": {
    "collapsed": true
   },
   "outputs": [],
   "source": [
    "ground_truth_map = dict(ground_truth.tolist())\n",
    "assigned_map = dict(assigned.tolist())\n",
    "\n",
    "ground_truth_source = [ground_truth_map[vertex] for vertex in edges[:,0]]\n",
    "ground_truth_target = [ground_truth_map[vertex] for vertex in edges[:,1]]\n",
    "\n",
    "assigned_source = [assigned_map[vertex] for vertex in edges[:,0]]\n",
    "assigned_target = [assigned_map[vertex] for vertex in edges[:,1]]"
   ]
  },
  {
   "cell_type": "code",
   "execution_count": 9,
   "metadata": {},
   "outputs": [
    {
     "data": {
      "text/html": [
       "<div align=\"center\" class=\"toyplot\" id=\"t451282ea69794e93b7c0dc783824a515\"><svg class=\"toyplot-canvas-Canvas\" height=\"600px\" id=\"t228a2e2135254a9aa5e83c266bb3a60d\" preserveAspectRatio=\"xMidYMid meet\" style=\"background-color:transparent;fill:rgb(16.1%,15.3%,14.1%);fill-opacity:1.0;font-family:Helvetica;font-size:12px;opacity:1.0;stroke:rgb(16.1%,15.3%,14.1%);stroke-opacity:1.0;stroke-width:1.0\" viewBox=\"0 0 600 600\" width=\"600px\" xmlns=\"http://www.w3.org/2000/svg\" xmlns:toyplot=\"http://www.sandia.gov/toyplot\" xmlns:xlink=\"http://www.w3.org/1999/xlink\"><g class=\"toyplot-coordinates-Cartesian\" id=\"tc9df07f11def43acab26a72b0e3a89a6\"><clipPath id=\"t65de1f3c4e3848fba8dcc06246a95811\"><rect height=\"540.0\" width=\"540.0\" x=\"30.0\" y=\"30.0\"></rect></clipPath><g clip-path=\"url(#t65de1f3c4e3848fba8dcc06246a95811)\"><g class=\"toyplot-mark-Graph\" id=\"td9f3dcf004c049a9bc710c2fc76e9fba\"><g class=\"toyplot-Edges\"><path d=\"M 209.684895569 50.0 L 253.057353078 51.8081031874\" style=\"fill:none;stroke:rgb(100%,0%,0%);stroke-opacity:1.0;stroke-width:1.0\"></path><path d=\"M 209.684895569 50.0 L 203.978190183 90.8386090217\" style=\"fill:none;stroke:rgb(100%,0%,0%);stroke-opacity:1.0;stroke-width:1.0\"></path><path d=\"M 209.684895569 50.0 L 265.250480273 123.383734723\" style=\"fill:none;stroke:rgb(100%,0%,0%);stroke-opacity:1.0;stroke-width:1.0\"></path><path d=\"M 253.057353078 51.8081031874 L 203.978190183 90.8386090217\" style=\"fill:none;stroke:rgb(82.7%,82.7%,82.7%);stroke-opacity:1.0;stroke-width:1.0\"></path><path d=\"M 253.057353078 51.8081031874 L 265.250480273 123.383734723\" style=\"fill:none;stroke:rgb(82.7%,82.7%,82.7%);stroke-opacity:1.0;stroke-width:1.0\"></path><path d=\"M 203.978190183 90.8386090217 L 265.250480273 123.383734723\" style=\"fill:none;stroke:rgb(82.7%,82.7%,82.7%);stroke-opacity:1.0;stroke-width:1.0\"></path><path d=\"M 336.0866379 229.901561209 L 392.506888811 253.255666931\" style=\"fill:none;stroke:rgb(82.7%,82.7%,82.7%);stroke-opacity:1.0;stroke-width:1.0\"></path><path d=\"M 336.0866379 229.901561209 L 396.021809817 286.810027968\" style=\"fill:none;stroke:rgb(82.7%,82.7%,82.7%);stroke-opacity:1.0;stroke-width:1.0\"></path><path d=\"M 336.0866379 229.901561209 L 361.069089366 332.705038873\" style=\"fill:none;stroke:rgb(82.7%,82.7%,82.7%);stroke-opacity:1.0;stroke-width:1.0\"></path><path d=\"M 392.506888811 253.255666931 L 396.021809817 286.810027968\" style=\"fill:none;stroke:rgb(82.7%,82.7%,82.7%);stroke-opacity:1.0;stroke-width:1.0\"></path><path d=\"M 392.506888811 253.255666931 L 361.069089366 332.705038873\" style=\"fill:none;stroke:rgb(82.7%,82.7%,82.7%);stroke-opacity:1.0;stroke-width:1.0\"></path><path d=\"M 396.021809817 286.810027968 L 361.069089366 332.705038873\" style=\"fill:none;stroke:rgb(82.7%,82.7%,82.7%);stroke-opacity:1.0;stroke-width:1.0\"></path><path d=\"M 347.518462478 459.818361067 L 308.123513561 516.398610164\" style=\"fill:none;stroke:rgb(82.7%,82.7%,82.7%);stroke-opacity:1.0;stroke-width:1.0\"></path><path d=\"M 347.518462478 459.818361067 L 369.165454933 528.862191383\" style=\"fill:none;stroke:rgb(82.7%,82.7%,82.7%);stroke-opacity:1.0;stroke-width:1.0\"></path><path d=\"M 347.518462478 459.818361067 L 331.004512904 550.0\" style=\"fill:none;stroke:rgb(82.7%,82.7%,82.7%);stroke-opacity:1.0;stroke-width:1.0\"></path><path d=\"M 308.123513561 516.398610164 L 369.165454933 528.862191383\" style=\"fill:none;stroke:rgb(82.7%,82.7%,82.7%);stroke-opacity:1.0;stroke-width:1.0\"></path><path d=\"M 308.123513561 516.398610164 L 331.004512904 550.0\" style=\"fill:none;stroke:rgb(82.7%,82.7%,82.7%);stroke-opacity:1.0;stroke-width:1.0\"></path><path d=\"M 369.165454933 528.862191383 L 331.004512904 550.0\" style=\"fill:none;stroke:rgb(82.7%,82.7%,82.7%);stroke-opacity:1.0;stroke-width:1.0\"></path><path d=\"M 265.250480273 123.383734723 L 336.0866379 229.901561209\" style=\"fill:none;stroke:rgb(82.7%,82.7%,82.7%);stroke-opacity:1.0;stroke-width:1.0\"></path><path d=\"M 361.069089366 332.705038873 L 347.518462478 459.818361067\" style=\"fill:none;stroke:rgb(0%,50.2%,0%);stroke-opacity:1.0;stroke-width:1.0\"></path></g><g class=\"toyplot-Vertices\"><g class=\"toyplot-Datum\" style=\"fill:rgb(65.1%,84.7%,32.9%);fill-opacity:1.0;opacity:1.0;stroke:rgb(65.1%,84.7%,32.9%);stroke-opacity:1.0\"><circle cx=\"209.68489556942228\" cy=\"50.0\" r=\"10.0\"></circle></g><g class=\"toyplot-Datum\" style=\"fill:rgb(98.8%,55.3%,38.4%);fill-opacity:1.0;opacity:1.0;stroke:rgb(98.8%,55.3%,38.4%);stroke-opacity:1.0\"><circle cx=\"253.05735307750501\" cy=\"51.808103187400434\" r=\"10.0\"></circle></g><g class=\"toyplot-Datum\" style=\"fill:rgb(98.8%,55.3%,38.4%);fill-opacity:1.0;opacity:1.0;stroke:rgb(98.8%,55.3%,38.4%);stroke-opacity:1.0\"><circle cx=\"203.97819018335846\" cy=\"90.838609021709999\" r=\"10.0\"></circle></g><g class=\"toyplot-Datum\" style=\"fill:rgb(98.8%,55.3%,38.4%);fill-opacity:1.0;opacity:1.0;stroke:rgb(98.8%,55.3%,38.4%);stroke-opacity:1.0\"><circle cx=\"265.25048027263921\" cy=\"123.38373472339872\" r=\"10.0\"></circle></g><g class=\"toyplot-Datum\" style=\"fill:rgb(55.3%,62.7%,79.6%);fill-opacity:1.0;opacity:1.0;stroke:rgb(55.3%,62.7%,79.6%);stroke-opacity:1.0\"><circle cx=\"336.08663789994222\" cy=\"229.90156120908347\" r=\"10.0\"></circle></g><g class=\"toyplot-Datum\" style=\"fill:rgb(55.3%,62.7%,79.6%);fill-opacity:1.0;opacity:1.0;stroke:rgb(55.3%,62.7%,79.6%);stroke-opacity:1.0\"><circle cx=\"392.50688881059352\" cy=\"253.25566693133214\" r=\"10.0\"></circle></g><g class=\"toyplot-Datum\" style=\"fill:rgb(55.3%,62.7%,79.6%);fill-opacity:1.0;opacity:1.0;stroke:rgb(55.3%,62.7%,79.6%);stroke-opacity:1.0\"><circle cx=\"396.02180981664145\" cy=\"286.81002796763073\" r=\"10.0\"></circle></g><g class=\"toyplot-Datum\" style=\"fill:rgb(55.3%,62.7%,79.6%);fill-opacity:1.0;opacity:1.0;stroke:rgb(55.3%,62.7%,79.6%);stroke-opacity:1.0\"><circle cx=\"361.06908936632647\" cy=\"332.70503887250106\" r=\"10.0\"></circle></g><g class=\"toyplot-Datum\" style=\"fill:rgb(55.3%,62.7%,79.6%);fill-opacity:1.0;opacity:1.0;stroke:rgb(55.3%,62.7%,79.6%);stroke-opacity:1.0\"><circle cx=\"347.51846247830969\" cy=\"459.81836106732754\" r=\"10.0\"></circle></g><g class=\"toyplot-Datum\" style=\"fill:rgb(55.3%,62.7%,79.6%);fill-opacity:1.0;opacity:1.0;stroke:rgb(55.3%,62.7%,79.6%);stroke-opacity:1.0\"><circle cx=\"308.12351356081211\" cy=\"516.39861016382122\" r=\"10.0\"></circle></g><g class=\"toyplot-Datum\" style=\"fill:rgb(55.3%,62.7%,79.6%);fill-opacity:1.0;opacity:1.0;stroke:rgb(55.3%,62.7%,79.6%);stroke-opacity:1.0\"><circle cx=\"369.16545493310974\" cy=\"528.86219138304273\" r=\"10.0\"></circle></g><g class=\"toyplot-Datum\" style=\"fill:rgb(55.3%,62.7%,79.6%);fill-opacity:1.0;opacity:1.0;stroke:rgb(55.3%,62.7%,79.6%);stroke-opacity:1.0\"><circle cx=\"331.00451290448143\" cy=\"550.0\" r=\"10.0\"></circle></g></g><g class=\"toyplot-Labels\"><g class=\"toyplot-Datum\" transform=\"translate(209.68489556942228,50.0)\"><text style=\"fill:rgb(100%,100%,100%);fill-opacity:1.0;font-family:helvetica;font-size:12.0;font-weight:normal;stroke:none;vertical-align:baseline;white-space:pre\" x=\"-3.336\" y=\"3.066\">1</text></g><g class=\"toyplot-Datum\" transform=\"translate(253.05735307750501,51.808103187400434)\"><text style=\"fill:rgb(100%,100%,100%);fill-opacity:1.0;font-family:helvetica;font-size:12.0;font-weight:normal;stroke:none;vertical-align:baseline;white-space:pre\" x=\"-3.336\" y=\"3.066\">2</text></g><g class=\"toyplot-Datum\" transform=\"translate(203.97819018335846,90.838609021709999)\"><text style=\"fill:rgb(100%,100%,100%);fill-opacity:1.0;font-family:helvetica;font-size:12.0;font-weight:normal;stroke:none;vertical-align:baseline;white-space:pre\" x=\"-3.336\" y=\"3.066\">3</text></g><g class=\"toyplot-Datum\" transform=\"translate(265.25048027263921,123.38373472339872)\"><text style=\"fill:rgb(100%,100%,100%);fill-opacity:1.0;font-family:helvetica;font-size:12.0;font-weight:normal;stroke:none;vertical-align:baseline;white-space:pre\" x=\"-3.336\" y=\"3.066\">4</text></g><g class=\"toyplot-Datum\" transform=\"translate(336.08663789994222,229.90156120908347)\"><text style=\"fill:rgb(100%,100%,100%);fill-opacity:1.0;font-family:helvetica;font-size:12.0;font-weight:normal;stroke:none;vertical-align:baseline;white-space:pre\" x=\"-3.336\" y=\"3.066\">5</text></g><g class=\"toyplot-Datum\" transform=\"translate(392.50688881059352,253.25566693133214)\"><text style=\"fill:rgb(100%,100%,100%);fill-opacity:1.0;font-family:helvetica;font-size:12.0;font-weight:normal;stroke:none;vertical-align:baseline;white-space:pre\" x=\"-3.336\" y=\"3.066\">6</text></g><g class=\"toyplot-Datum\" transform=\"translate(396.02180981664145,286.81002796763073)\"><text style=\"fill:rgb(100%,100%,100%);fill-opacity:1.0;font-family:helvetica;font-size:12.0;font-weight:normal;stroke:none;vertical-align:baseline;white-space:pre\" x=\"-3.336\" y=\"3.066\">7</text></g><g class=\"toyplot-Datum\" transform=\"translate(361.06908936632647,332.70503887250106)\"><text style=\"fill:rgb(100%,100%,100%);fill-opacity:1.0;font-family:helvetica;font-size:12.0;font-weight:normal;stroke:none;vertical-align:baseline;white-space:pre\" x=\"-3.336\" y=\"3.066\">8</text></g><g class=\"toyplot-Datum\" transform=\"translate(347.51846247830969,459.81836106732754)\"><text style=\"fill:rgb(100%,100%,100%);fill-opacity:1.0;font-family:helvetica;font-size:12.0;font-weight:normal;stroke:none;vertical-align:baseline;white-space:pre\" x=\"-3.336\" y=\"3.066\">9</text></g><g class=\"toyplot-Datum\" transform=\"translate(308.12351356081211,516.39861016382122)\"><text style=\"fill:rgb(100%,100%,100%);fill-opacity:1.0;font-family:helvetica;font-size:12.0;font-weight:normal;stroke:none;vertical-align:baseline;white-space:pre\" x=\"-6.672\" y=\"3.066\">10</text></g><g class=\"toyplot-Datum\" transform=\"translate(369.16545493310974,528.86219138304273)\"><text style=\"fill:rgb(100%,100%,100%);fill-opacity:1.0;font-family:helvetica;font-size:12.0;font-weight:normal;stroke:none;vertical-align:baseline;white-space:pre\" x=\"-6.672\" y=\"3.066\">11</text></g><g class=\"toyplot-Datum\" transform=\"translate(331.00451290448143,550.0)\"><text style=\"fill:rgb(100%,100%,100%);fill-opacity:1.0;font-family:helvetica;font-size:12.0;font-weight:normal;stroke:none;vertical-align:baseline;white-space:pre\" x=\"-6.672\" y=\"3.066\">12</text></g></g></g></g></g></svg><div class=\"toyplot-interactive\"></div></div>"
      ]
     },
     "metadata": {},
     "output_type": "display_data"
    }
   ],
   "source": [
    "# Default all edges to light gray.\n",
    "ecolor = numpy.repeat(\"lightgray\", len(edges))\n",
    "\n",
    "selection = numpy.equal(ground_truth_source, ground_truth_target) & numpy.not_equal(assigned_source, assigned_target)\n",
    "ecolor[selection] = \"red\"\n",
    "\n",
    "selection = numpy.not_equal(ground_truth_source, ground_truth_target) & numpy.equal(assigned_source, assigned_target)\n",
    "ecolor[selection] = \"green\"\n",
    "\n",
    "canvas, axes, mark = toyplot.graph(edges, ecolor=ecolor, vsize=20, vlstyle=vlstyle, vcolor=(vcolor, colormap));"
   ]
  },
  {
   "cell_type": "markdown",
   "metadata": {},
   "source": [
    "Now, we have a single visualization that emphasizes the differences between the two sets of community assignments, and we can clearly see the behavior of the tested algorithm: the green edge connecting vertices 8 and 9 indicate that two ground truth communities were merged together into one, while the red edges adjacent to vertex 1 show that it was \"split\" from its neighbors into its own community."
   ]
  },
  {
   "cell_type": "markdown",
   "metadata": {},
   "source": [
    "Now that that's taken care of, we can create a publication-quality PDF version of the plot for incorporation into a paper:"
   ]
  },
  {
   "cell_type": "code",
   "execution_count": 10,
   "metadata": {
    "collapsed": true
   },
   "outputs": [],
   "source": [
    "import toyplot.pdf\n",
    "toyplot.pdf.render(canvas, \"communities.pdf\")"
   ]
  }
 ],
 "metadata": {
  "kernelspec": {
   "display_name": "Python 2",
   "language": "python",
   "name": "python2"
  },
  "language_info": {
   "codemirror_mode": {
    "name": "ipython",
    "version": 2
   },
   "file_extension": ".py",
   "mimetype": "text/x-python",
   "name": "python",
   "nbconvert_exporter": "python",
   "pygments_lexer": "ipython2",
   "version": "2.7.13"
  }
 },
 "nbformat": 4,
 "nbformat_minor": 1
}

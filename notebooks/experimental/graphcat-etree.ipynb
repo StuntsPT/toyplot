{
 "cells": [
  {
   "cell_type": "code",
   "execution_count": 1,
   "id": "cc4e651b",
   "metadata": {},
   "outputs": [],
   "source": [
    "import copy\n",
    "import xml.etree.ElementTree as xml\n",
    "\n",
    "import graphcat.notebook"
   ]
  },
  {
   "cell_type": "code",
   "execution_count": 2,
   "id": "f0261a32",
   "metadata": {},
   "outputs": [],
   "source": [
    "def append_element(graph, name, inputs):\n",
    "    parent = copy.copy(inputs.getone(\"parent\"))\n",
    "    child = inputs.getone(\"child\")\n",
    "    parent.append(child)\n",
    "    return parent\n",
    "\n",
    "\n",
    "def create_element(tag, attrib={}, **extra):\n",
    "    def implementation(graph, name, inputs):\n",
    "        return xml.Element(tag, attrib=attrib, **extra)\n",
    "    return implementation"
   ]
  },
  {
   "cell_type": "code",
   "execution_count": 3,
   "id": "aec611fb",
   "metadata": {},
   "outputs": [],
   "source": [
    "graph = graphcat.StaticGraph()\n",
    "graph.add_task(\"canvas\", create_element(\"canvas\"))\n",
    "graph.add_task(\"axes1\", create_element(\"cartesian\"))\n",
    "graph.add_task(\"append1\", append_element)\n",
    "graph.add_links(\"canvas\", (\"append1\", \"parent\"))\n",
    "graph.add_links(\"axes1\", (\"append1\", \"child\"))\n",
    "graph.add_task(\"axes2\", create_element(\"radial\"))\n",
    "graph.add_task(\"append2\", append_element)\n",
    "graph.add_links(\"append1\", (\"append2\", \"parent\"))\n",
    "graph.add_links(\"axes2\", (\"append2\", \"child\"))"
   ]
  },
  {
   "cell_type": "code",
   "execution_count": 4,
   "id": "829dff2f",
   "metadata": {},
   "outputs": [
    {
     "data": {
      "image/svg+xml": [
       "<svg xmlns=\"http://www.w3.org/2000/svg\" xmlns:xlink=\"http://www.w3.org/1999/xlink\" width=\"258pt\" height=\"72pt\" viewBox=\"0.00 0.00 258.00 72.00\">\n",
       "<g id=\"graph0\" class=\"graph\" transform=\"scale(1 1) rotate(0) translate(4 68)\">\n",
       "<polygon fill=\"white\" stroke=\"transparent\" points=\"-4,4 -4,-68 254,-68 254,4 -4,4\"/>\n",
       "<!-- canvas -->\n",
       "<g id=\"node1\" class=\"node\">\n",
       "<title>canvas</title>\n",
       "<polygon fill=\"white\" stroke=\"#494744\" points=\"38,-64 0,-64 0,-49 38,-49 38,-64\"/>\n",
       "<text text-anchor=\"middle\" x=\"19\" y=\"-54.6\" font-family=\"Helvetica,sans-Serif\" font-size=\"8.00\" fill=\"#494744\">canvas</text>\n",
       "</g>\n",
       "<!-- append1 -->\n",
       "<g id=\"node2\" class=\"node\">\n",
       "<title>append1</title>\n",
       "<polygon fill=\"white\" stroke=\"#494744\" points=\"144,-48 100,-48 100,-33 144,-33 144,-48\"/>\n",
       "<text text-anchor=\"middle\" x=\"122\" y=\"-38.6\" font-family=\"Helvetica,sans-Serif\" font-size=\"8.00\" fill=\"#494744\">append1</text>\n",
       "</g>\n",
       "<!-- canvas&#45;&gt;append1 -->\n",
       "<g id=\"edge1\" class=\"edge\">\n",
       "<title>canvas-&gt;append1</title>\n",
       "<path fill=\"none\" stroke=\"#494744\" d=\"M38.06,-53.64C52.44,-51.36 72.9,-48.12 89.9,-45.43\"/>\n",
       "<polygon fill=\"#494744\" stroke=\"#494744\" points=\"90.63,-48.86 99.96,-43.83 89.53,-41.94 90.63,-48.86\"/>\n",
       "<text text-anchor=\"middle\" x=\"69\" y=\"-53.1\" font-family=\"Helvetica,sans-Serif\" font-size=\"8.00\">  parent  </text>\n",
       "</g>\n",
       "<!-- append2 -->\n",
       "<g id=\"node4\" class=\"node\">\n",
       "<title>append2</title>\n",
       "<polygon fill=\"white\" stroke=\"#494744\" points=\"250,-31 206,-31 206,-16 250,-16 250,-31\"/>\n",
       "<text text-anchor=\"middle\" x=\"228\" y=\"-21.6\" font-family=\"Helvetica,sans-Serif\" font-size=\"8.00\" fill=\"#494744\">append2</text>\n",
       "</g>\n",
       "<!-- append1&#45;&gt;append2 -->\n",
       "<g id=\"edge3\" class=\"edge\">\n",
       "<title>append1-&gt;append2</title>\n",
       "<path fill=\"none\" stroke=\"#494744\" d=\"M144.05,-37.06C158.99,-34.62 179.29,-31.3 196.07,-28.56\"/>\n",
       "<polygon fill=\"#494744\" stroke=\"#494744\" points=\"196.68,-32 205.99,-26.94 195.55,-25.09 196.68,-32\"/>\n",
       "<text text-anchor=\"middle\" x=\"175\" y=\"-37.1\" font-family=\"Helvetica,sans-Serif\" font-size=\"8.00\">  parent  </text>\n",
       "</g>\n",
       "<!-- axes1 -->\n",
       "<g id=\"node3\" class=\"node\">\n",
       "<title>axes1</title>\n",
       "<polygon fill=\"white\" stroke=\"#494744\" points=\"36,-31 2,-31 2,-16 36,-16 36,-31\"/>\n",
       "<text text-anchor=\"middle\" x=\"19\" y=\"-21.6\" font-family=\"Helvetica,sans-Serif\" font-size=\"8.00\" fill=\"#494744\">axes1</text>\n",
       "</g>\n",
       "<!-- axes1&#45;&gt;append1 -->\n",
       "<g id=\"edge2\" class=\"edge\">\n",
       "<title>axes1-&gt;append1</title>\n",
       "<path fill=\"none\" stroke=\"#494744\" d=\"M36.06,-25.79C49.23,-27.71 68.35,-30.6 85,-33.5 86.49,-33.76 88.01,-34.03 89.55,-34.31\"/>\n",
       "<polygon fill=\"#494744\" stroke=\"#494744\" points=\"89.23,-37.81 99.71,-36.22 90.52,-30.93 89.23,-37.81\"/>\n",
       "<text text-anchor=\"middle\" x=\"69\" y=\"-36.1\" font-family=\"Helvetica,sans-Serif\" font-size=\"8.00\">  child  </text>\n",
       "</g>\n",
       "<!-- axes2 -->\n",
       "<g id=\"node5\" class=\"node\">\n",
       "<title>axes2</title>\n",
       "<polygon fill=\"white\" stroke=\"#494744\" points=\"139,-15 105,-15 105,0 139,0 139,-15\"/>\n",
       "<text text-anchor=\"middle\" x=\"122\" y=\"-5.6\" font-family=\"Helvetica,sans-Serif\" font-size=\"8.00\" fill=\"#494744\">axes2</text>\n",
       "</g>\n",
       "<!-- axes2&#45;&gt;append2 -->\n",
       "<g id=\"edge4\" class=\"edge\">\n",
       "<title>axes2-&gt;append2</title>\n",
       "<path fill=\"none\" stroke=\"#494744\" d=\"M139.12,-6.04C153.02,-5.18 173.54,-4.88 191,-8.5 194.99,-9.33 199.09,-10.6 203.03,-12.05\"/>\n",
       "<polygon fill=\"#494744\" stroke=\"#494744\" points=\"201.77,-15.31 212.34,-15.91 204.44,-8.85 201.77,-15.31\"/>\n",
       "<text text-anchor=\"middle\" x=\"175\" y=\"-11.1\" font-family=\"Helvetica,sans-Serif\" font-size=\"8.00\">  child  </text>\n",
       "</g>\n",
       "</g>\n",
       "</svg>"
      ],
      "text/plain": [
       "<IPython.core.display.SVG object>"
      ]
     },
     "metadata": {},
     "output_type": "display_data"
    }
   ],
   "source": [
    "graphcat.notebook.display(graph)"
   ]
  },
  {
   "cell_type": "code",
   "execution_count": 5,
   "id": "85047669",
   "metadata": {},
   "outputs": [
    {
     "name": "stdout",
     "output_type": "stream",
     "text": [
      "<canvas><cartesian /><radial /></canvas>\n"
     ]
    }
   ],
   "source": [
    "xml.dump(graph.output(\"append2\"))"
   ]
  },
  {
   "cell_type": "code",
   "execution_count": 6,
   "id": "1c168856",
   "metadata": {},
   "outputs": [
    {
     "data": {
      "text/plain": [
       "<Element 'canvas' at 0x7fbdb8771a40>"
      ]
     },
     "execution_count": 6,
     "metadata": {},
     "output_type": "execute_result"
    }
   ],
   "source": [
    "graph.output(\"canvas\")"
   ]
  },
  {
   "cell_type": "code",
   "execution_count": 7,
   "id": "43b70ff2",
   "metadata": {},
   "outputs": [
    {
     "data": {
      "text/plain": [
       "<Element 'canvas' at 0x7fbdb8771a90>"
      ]
     },
     "execution_count": 7,
     "metadata": {},
     "output_type": "execute_result"
    }
   ],
   "source": [
    "graph.output(\"append1\")"
   ]
  },
  {
   "cell_type": "code",
   "execution_count": 8,
   "id": "ac3fb8fc",
   "metadata": {},
   "outputs": [
    {
     "data": {
      "text/plain": [
       "<Element 'canvas' at 0x7fbdb87719a0>"
      ]
     },
     "execution_count": 8,
     "metadata": {},
     "output_type": "execute_result"
    }
   ],
   "source": [
    "graph.output(\"append2\")"
   ]
  },
  {
   "cell_type": "code",
   "execution_count": 9,
   "id": "19bfccf5",
   "metadata": {},
   "outputs": [
    {
     "data": {
      "text/plain": [
       "<Element 'cartesian' at 0x7fbdb8771b30>"
      ]
     },
     "execution_count": 9,
     "metadata": {},
     "output_type": "execute_result"
    }
   ],
   "source": [
    "graph.output(\"axes1\")"
   ]
  },
  {
   "cell_type": "code",
   "execution_count": 10,
   "id": "53b6eaad",
   "metadata": {},
   "outputs": [
    {
     "data": {
      "text/plain": [
       "<Element 'cartesian' at 0x7fbdb8771b30>"
      ]
     },
     "execution_count": 10,
     "metadata": {},
     "output_type": "execute_result"
    }
   ],
   "source": [
    "graph.output(\"append1\")[0]"
   ]
  },
  {
   "cell_type": "code",
   "execution_count": 11,
   "id": "de4c208e",
   "metadata": {},
   "outputs": [
    {
     "data": {
      "text/plain": [
       "<Element 'cartesian' at 0x7fbdb8771b30>"
      ]
     },
     "execution_count": 11,
     "metadata": {},
     "output_type": "execute_result"
    }
   ],
   "source": [
    "graph.output(\"append2\")[0]"
   ]
  },
  {
   "cell_type": "code",
   "execution_count": 12,
   "id": "58b101aa",
   "metadata": {},
   "outputs": [
    {
     "data": {
      "text/plain": [
       "<Element 'radial' at 0x7fbdb8771b80>"
      ]
     },
     "execution_count": 12,
     "metadata": {},
     "output_type": "execute_result"
    }
   ],
   "source": [
    "graph.output(\"axes2\")"
   ]
  },
  {
   "cell_type": "code",
   "execution_count": 13,
   "id": "84afef9d",
   "metadata": {},
   "outputs": [
    {
     "data": {
      "text/plain": [
       "<Element 'radial' at 0x7fbdb8771b80>"
      ]
     },
     "execution_count": 13,
     "metadata": {},
     "output_type": "execute_result"
    }
   ],
   "source": [
    "graph.output(\"append2\")[1]"
   ]
  }
 ],
 "metadata": {
  "kernelspec": {
   "display_name": "Python 3 (ipykernel)",
   "language": "python",
   "name": "python3"
  },
  "language_info": {
   "codemirror_mode": {
    "name": "ipython",
    "version": 3
   },
   "file_extension": ".py",
   "mimetype": "text/x-python",
   "name": "python",
   "nbconvert_exporter": "python",
   "pygments_lexer": "ipython3",
   "version": "3.8.10"
  }
 },
 "nbformat": 4,
 "nbformat_minor": 5
}
